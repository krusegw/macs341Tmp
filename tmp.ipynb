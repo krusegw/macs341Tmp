{
  "nbformat": 4,
  "nbformat_minor": 0,
  "metadata": {
    "colab": {
      "provenance": [],
      "authorship_tag": "ABX9TyN6/HbIAXGECfSVTDqwIME5",
      "include_colab_link": true
    },
    "kernelspec": {
      "name": "python3",
      "display_name": "Python 3"
    },
    "language_info": {
      "name": "python"
    }
  },
  "cells": [
    {
      "cell_type": "markdown",
      "metadata": {
        "id": "view-in-github",
        "colab_type": "text"
      },
      "source": [
        "<a href=\"https://colab.research.google.com/github/krusegw/macs341Tmp/blob/main/tmp.ipynb\" target=\"_parent\"><img src=\"https://colab.research.google.com/assets/colab-badge.svg\" alt=\"Open In Colab\"/></a>"
      ]
    },
    {
      "cell_type": "code",
      "execution_count": 2,
      "metadata": {
        "colab": {
          "base_uri": "https://localhost:8080/"
        },
        "id": "OHZJNVmf562N",
        "outputId": "3f3dc5e5-d1c8-4d7a-eca5-dc04def21464"
      },
      "outputs": [
        {
          "output_type": "stream",
          "name": "stdout",
          "text": [
            "Cloning into 'macs341Tmp'...\n",
            "remote: Enumerating objects: 43, done.\u001b[K\n",
            "remote: Counting objects: 100% (43/43), done.\u001b[K\n",
            "remote: Compressing objects: 100% (28/28), done.\u001b[K\n",
            "remote: Total 43 (delta 7), reused 43 (delta 7), pack-reused 0 (from 0)\u001b[K\n",
            "Receiving objects: 100% (43/43), 43.10 KiB | 832.00 KiB/s, done.\n",
            "Resolving deltas: 100% (7/7), done.\n"
          ]
        }
      ],
      "source": [
        "!git clone https://github.com/krusegw/macs341Tmp.git"
      ]
    },
    {
      "cell_type": "code",
      "source": [
        "!pwd"
      ],
      "metadata": {
        "colab": {
          "base_uri": "https://localhost:8080/"
        },
        "id": "TXknfr8i6N-T",
        "outputId": "c98f87e0-078f-4b89-dbf5-0a2fab112f37"
      },
      "execution_count": 3,
      "outputs": [
        {
          "output_type": "stream",
          "name": "stdout",
          "text": [
            "/content\n"
          ]
        }
      ]
    },
    {
      "cell_type": "code",
      "source": [
        "cd macs341Tmp/"
      ],
      "metadata": {
        "colab": {
          "base_uri": "https://localhost:8080/"
        },
        "id": "-TfVpnbX6o4C",
        "outputId": "e2e28a49-4fba-44d2-df42-e795ba642e99"
      },
      "execution_count": 4,
      "outputs": [
        {
          "output_type": "stream",
          "name": "stdout",
          "text": [
            "/content/macs341Tmp\n"
          ]
        }
      ]
    },
    {
      "cell_type": "code",
      "source": [
        "cd swc-python/"
      ],
      "metadata": {
        "colab": {
          "base_uri": "https://localhost:8080/"
        },
        "id": "Xyg-nWL66rIx",
        "outputId": "734746d8-2b2a-435e-eb38-4d8aa447892a"
      },
      "execution_count": 5,
      "outputs": [
        {
          "output_type": "stream",
          "name": "stdout",
          "text": [
            "/content/macs341Tmp/swc-python\n"
          ]
        }
      ]
    },
    {
      "cell_type": "code",
      "source": [
        "!ls"
      ],
      "metadata": {
        "colab": {
          "base_uri": "https://localhost:8080/"
        },
        "id": "07PyMl_r6xgC",
        "outputId": "956d13d8-0fcd-4585-b6cf-081aee573be9"
      },
      "execution_count": 6,
      "outputs": [
        {
          "output_type": "stream",
          "name": "stdout",
          "text": [
            "python-novice-inflammation-code      python-novice-inflammation-data\n",
            "python-novice-inflammation-code.zip  python-novice-inflammation-data.zip\n"
          ]
        }
      ]
    },
    {
      "cell_type": "code",
      "source": [
        "cd python-novice-inflammation-code/"
      ],
      "metadata": {
        "colab": {
          "base_uri": "https://localhost:8080/"
        },
        "id": "aG-UZJ786y9B",
        "outputId": "a0dcfe44-7018-4e16-a61e-78c698d38611"
      },
      "execution_count": 7,
      "outputs": [
        {
          "output_type": "stream",
          "name": "stdout",
          "text": [
            "/content/macs341Tmp/swc-python/python-novice-inflammation-code\n"
          ]
        }
      ]
    },
    {
      "cell_type": "code",
      "source": [
        "!ls"
      ],
      "metadata": {
        "colab": {
          "base_uri": "https://localhost:8080/"
        },
        "id": "iV7ZKOzV62WB",
        "outputId": "02155502-d50c-4740-b9f7-e5984b5464f5"
      },
      "execution_count": 8,
      "outputs": [
        {
          "output_type": "stream",
          "name": "stdout",
          "text": [
            "code\n"
          ]
        }
      ]
    },
    {
      "cell_type": "code",
      "source": [
        "cd code"
      ],
      "metadata": {
        "colab": {
          "base_uri": "https://localhost:8080/"
        },
        "id": "gLVXgyIu66Fw",
        "outputId": "d423c368-bffd-42fc-a14a-786ba040913e"
      },
      "execution_count": 9,
      "outputs": [
        {
          "output_type": "stream",
          "name": "stdout",
          "text": [
            "/content/macs341Tmp/swc-python/python-novice-inflammation-code/code\n"
          ]
        }
      ]
    },
    {
      "cell_type": "code",
      "source": [
        "!ls"
      ],
      "metadata": {
        "colab": {
          "base_uri": "https://localhost:8080/"
        },
        "id": "jPG59QTd67uR",
        "outputId": "4cd6b1e8-3c37-4e14-9dd8-a9dde6a89d9d"
      },
      "execution_count": 10,
      "outputs": [
        {
          "output_type": "stream",
          "name": "stdout",
          "text": [
            "argv_list.py  count_stdin.py\t   my_ls.py\t   readings_03.py  readings_06.py  readings_09.py\n",
            "arith.py      gen_inflammation.py  readings_01.py  readings_04.py  readings_07.py  rectangle.py\n",
            "check.py      line_count.py\t   readings_02.py  readings_05.py  readings_08.py  sys_version.py\n"
          ]
        }
      ]
    },
    {
      "cell_type": "code",
      "source": [],
      "metadata": {
        "id": "5sStbxBL69ky"
      },
      "execution_count": null,
      "outputs": []
    }
  ]
}